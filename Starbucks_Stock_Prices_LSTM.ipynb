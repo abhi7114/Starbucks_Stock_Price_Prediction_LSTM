{
 "cells": [
  {
   "cell_type": "markdown",
   "id": "3c15e9de",
   "metadata": {},
   "source": [
    "## Data Preprocessing"
   ]
  },
  {
   "cell_type": "markdown",
   "id": "6faee572",
   "metadata": {},
   "source": [
    "### Import libraries"
   ]
  },
  {
   "cell_type": "code",
   "execution_count": 1,
   "id": "c39ff9f0",
   "metadata": {},
   "outputs": [],
   "source": [
    "import numpy as np\n",
    "import pandas as pd\n",
    "import matplotlib.pyplot as plt"
   ]
  },
  {
   "cell_type": "markdown",
   "id": "6319d5d5",
   "metadata": {},
   "source": [
    "### Importing the training set"
   ]
  },
  {
   "cell_type": "code",
   "execution_count": 2,
   "id": "dbb4c1ec",
   "metadata": {},
   "outputs": [],
   "source": [
    "dataset_train = pd.read_csv('Starbucks_Stock_Price_Train.csv')"
   ]
  },
  {
   "cell_type": "code",
   "execution_count": 3,
   "id": "e8b9bc2b",
   "metadata": {},
   "outputs": [
    {
     "data": {
      "text/html": [
       "<div>\n",
       "<style scoped>\n",
       "    .dataframe tbody tr th:only-of-type {\n",
       "        vertical-align: middle;\n",
       "    }\n",
       "\n",
       "    .dataframe tbody tr th {\n",
       "        vertical-align: top;\n",
       "    }\n",
       "\n",
       "    .dataframe thead th {\n",
       "        text-align: right;\n",
       "    }\n",
       "</style>\n",
       "<table border=\"1\" class=\"dataframe\">\n",
       "  <thead>\n",
       "    <tr style=\"text-align: right;\">\n",
       "      <th></th>\n",
       "      <th>Date</th>\n",
       "      <th>Close/Last</th>\n",
       "      <th>Volume</th>\n",
       "      <th>Open</th>\n",
       "      <th>High</th>\n",
       "      <th>Low</th>\n",
       "    </tr>\n",
       "  </thead>\n",
       "  <tbody>\n",
       "    <tr>\n",
       "      <th>0</th>\n",
       "      <td>01/13/2014</td>\n",
       "      <td>$37.56</td>\n",
       "      <td>14644198</td>\n",
       "      <td>$38.69</td>\n",
       "      <td>$38.70</td>\n",
       "      <td>$37.38</td>\n",
       "    </tr>\n",
       "    <tr>\n",
       "      <th>1</th>\n",
       "      <td>01/14/2014</td>\n",
       "      <td>$37.73</td>\n",
       "      <td>18645578</td>\n",
       "      <td>$37.56</td>\n",
       "      <td>$38.18</td>\n",
       "      <td>$37.38</td>\n",
       "    </tr>\n",
       "    <tr>\n",
       "      <th>2</th>\n",
       "      <td>01/15/2014</td>\n",
       "      <td>$38.10</td>\n",
       "      <td>8657684</td>\n",
       "      <td>$37.77</td>\n",
       "      <td>$38.17</td>\n",
       "      <td>$37.71</td>\n",
       "    </tr>\n",
       "    <tr>\n",
       "      <th>3</th>\n",
       "      <td>01/16/2014</td>\n",
       "      <td>$37.65</td>\n",
       "      <td>9029284</td>\n",
       "      <td>$37.91</td>\n",
       "      <td>$38.10</td>\n",
       "      <td>$37.57</td>\n",
       "    </tr>\n",
       "    <tr>\n",
       "      <th>4</th>\n",
       "      <td>01/17/2014</td>\n",
       "      <td>$37.45</td>\n",
       "      <td>12937332</td>\n",
       "      <td>$37.50</td>\n",
       "      <td>$37.73</td>\n",
       "      <td>$37.34</td>\n",
       "    </tr>\n",
       "    <tr>\n",
       "      <th>...</th>\n",
       "      <td>...</td>\n",
       "      <td>...</td>\n",
       "      <td>...</td>\n",
       "      <td>...</td>\n",
       "      <td>...</td>\n",
       "      <td>...</td>\n",
       "    </tr>\n",
       "    <tr>\n",
       "      <th>2490</th>\n",
       "      <td>12/04/2023</td>\n",
       "      <td>$97.60</td>\n",
       "      <td>11477380</td>\n",
       "      <td>$98.39</td>\n",
       "      <td>$98.88</td>\n",
       "      <td>$96.77</td>\n",
       "    </tr>\n",
       "    <tr>\n",
       "      <th>2491</th>\n",
       "      <td>12/05/2023</td>\n",
       "      <td>$95.54</td>\n",
       "      <td>16027350</td>\n",
       "      <td>$97.38</td>\n",
       "      <td>$97.48</td>\n",
       "      <td>$94.85</td>\n",
       "    </tr>\n",
       "    <tr>\n",
       "      <th>2492</th>\n",
       "      <td>12/06/2023</td>\n",
       "      <td>$97.02</td>\n",
       "      <td>12115000</td>\n",
       "      <td>$95.95</td>\n",
       "      <td>$97.17</td>\n",
       "      <td>$95.47</td>\n",
       "    </tr>\n",
       "    <tr>\n",
       "      <th>2493</th>\n",
       "      <td>12/07/2023</td>\n",
       "      <td>$96.44</td>\n",
       "      <td>7858295</td>\n",
       "      <td>$97.25</td>\n",
       "      <td>$97.70</td>\n",
       "      <td>$96.27</td>\n",
       "    </tr>\n",
       "    <tr>\n",
       "      <th>2494</th>\n",
       "      <td>12/08/2023</td>\n",
       "      <td>$96.61</td>\n",
       "      <td>7125234</td>\n",
       "      <td>$96.08</td>\n",
       "      <td>$96.86</td>\n",
       "      <td>$95.81</td>\n",
       "    </tr>\n",
       "  </tbody>\n",
       "</table>\n",
       "<p>2495 rows × 6 columns</p>\n",
       "</div>"
      ],
      "text/plain": [
       "            Date Close/Last    Volume    Open    High     Low\n",
       "0     01/13/2014     $37.56  14644198  $38.69  $38.70  $37.38\n",
       "1     01/14/2014     $37.73  18645578  $37.56  $38.18  $37.38\n",
       "2     01/15/2014     $38.10   8657684  $37.77  $38.17  $37.71\n",
       "3     01/16/2014     $37.65   9029284  $37.91  $38.10  $37.57\n",
       "4     01/17/2014     $37.45  12937332  $37.50  $37.73  $37.34\n",
       "...          ...        ...       ...     ...     ...     ...\n",
       "2490  12/04/2023     $97.60  11477380  $98.39  $98.88  $96.77\n",
       "2491  12/05/2023     $95.54  16027350  $97.38  $97.48  $94.85\n",
       "2492  12/06/2023     $97.02  12115000  $95.95  $97.17  $95.47\n",
       "2493  12/07/2023     $96.44   7858295  $97.25  $97.70  $96.27\n",
       "2494  12/08/2023     $96.61   7125234  $96.08  $96.86  $95.81\n",
       "\n",
       "[2495 rows x 6 columns]"
      ]
     },
     "execution_count": 3,
     "metadata": {},
     "output_type": "execute_result"
    }
   ],
   "source": [
    "dataset_train"
   ]
  },
  {
   "cell_type": "code",
   "execution_count": 4,
   "id": "a2f98696",
   "metadata": {},
   "outputs": [],
   "source": [
    "dataset_train['Open'] = dataset_train['Open'].apply(lambda x: float(x.replace('$', '')))"
   ]
  },
  {
   "cell_type": "code",
   "execution_count": 5,
   "id": "1892fd64",
   "metadata": {},
   "outputs": [
    {
     "data": {
      "text/html": [
       "<div>\n",
       "<style scoped>\n",
       "    .dataframe tbody tr th:only-of-type {\n",
       "        vertical-align: middle;\n",
       "    }\n",
       "\n",
       "    .dataframe tbody tr th {\n",
       "        vertical-align: top;\n",
       "    }\n",
       "\n",
       "    .dataframe thead th {\n",
       "        text-align: right;\n",
       "    }\n",
       "</style>\n",
       "<table border=\"1\" class=\"dataframe\">\n",
       "  <thead>\n",
       "    <tr style=\"text-align: right;\">\n",
       "      <th></th>\n",
       "      <th>Date</th>\n",
       "      <th>Close/Last</th>\n",
       "      <th>Volume</th>\n",
       "      <th>Open</th>\n",
       "      <th>High</th>\n",
       "      <th>Low</th>\n",
       "    </tr>\n",
       "  </thead>\n",
       "  <tbody>\n",
       "    <tr>\n",
       "      <th>0</th>\n",
       "      <td>01/13/2014</td>\n",
       "      <td>$37.56</td>\n",
       "      <td>14644198</td>\n",
       "      <td>38.69</td>\n",
       "      <td>$38.70</td>\n",
       "      <td>$37.38</td>\n",
       "    </tr>\n",
       "    <tr>\n",
       "      <th>1</th>\n",
       "      <td>01/14/2014</td>\n",
       "      <td>$37.73</td>\n",
       "      <td>18645578</td>\n",
       "      <td>37.56</td>\n",
       "      <td>$38.18</td>\n",
       "      <td>$37.38</td>\n",
       "    </tr>\n",
       "    <tr>\n",
       "      <th>2</th>\n",
       "      <td>01/15/2014</td>\n",
       "      <td>$38.10</td>\n",
       "      <td>8657684</td>\n",
       "      <td>37.77</td>\n",
       "      <td>$38.17</td>\n",
       "      <td>$37.71</td>\n",
       "    </tr>\n",
       "    <tr>\n",
       "      <th>3</th>\n",
       "      <td>01/16/2014</td>\n",
       "      <td>$37.65</td>\n",
       "      <td>9029284</td>\n",
       "      <td>37.91</td>\n",
       "      <td>$38.10</td>\n",
       "      <td>$37.57</td>\n",
       "    </tr>\n",
       "    <tr>\n",
       "      <th>4</th>\n",
       "      <td>01/17/2014</td>\n",
       "      <td>$37.45</td>\n",
       "      <td>12937332</td>\n",
       "      <td>37.50</td>\n",
       "      <td>$37.73</td>\n",
       "      <td>$37.34</td>\n",
       "    </tr>\n",
       "    <tr>\n",
       "      <th>...</th>\n",
       "      <td>...</td>\n",
       "      <td>...</td>\n",
       "      <td>...</td>\n",
       "      <td>...</td>\n",
       "      <td>...</td>\n",
       "      <td>...</td>\n",
       "    </tr>\n",
       "    <tr>\n",
       "      <th>2490</th>\n",
       "      <td>12/04/2023</td>\n",
       "      <td>$97.60</td>\n",
       "      <td>11477380</td>\n",
       "      <td>98.39</td>\n",
       "      <td>$98.88</td>\n",
       "      <td>$96.77</td>\n",
       "    </tr>\n",
       "    <tr>\n",
       "      <th>2491</th>\n",
       "      <td>12/05/2023</td>\n",
       "      <td>$95.54</td>\n",
       "      <td>16027350</td>\n",
       "      <td>97.38</td>\n",
       "      <td>$97.48</td>\n",
       "      <td>$94.85</td>\n",
       "    </tr>\n",
       "    <tr>\n",
       "      <th>2492</th>\n",
       "      <td>12/06/2023</td>\n",
       "      <td>$97.02</td>\n",
       "      <td>12115000</td>\n",
       "      <td>95.95</td>\n",
       "      <td>$97.17</td>\n",
       "      <td>$95.47</td>\n",
       "    </tr>\n",
       "    <tr>\n",
       "      <th>2493</th>\n",
       "      <td>12/07/2023</td>\n",
       "      <td>$96.44</td>\n",
       "      <td>7858295</td>\n",
       "      <td>97.25</td>\n",
       "      <td>$97.70</td>\n",
       "      <td>$96.27</td>\n",
       "    </tr>\n",
       "    <tr>\n",
       "      <th>2494</th>\n",
       "      <td>12/08/2023</td>\n",
       "      <td>$96.61</td>\n",
       "      <td>7125234</td>\n",
       "      <td>96.08</td>\n",
       "      <td>$96.86</td>\n",
       "      <td>$95.81</td>\n",
       "    </tr>\n",
       "  </tbody>\n",
       "</table>\n",
       "<p>2495 rows × 6 columns</p>\n",
       "</div>"
      ],
      "text/plain": [
       "            Date Close/Last    Volume   Open    High     Low\n",
       "0     01/13/2014     $37.56  14644198  38.69  $38.70  $37.38\n",
       "1     01/14/2014     $37.73  18645578  37.56  $38.18  $37.38\n",
       "2     01/15/2014     $38.10   8657684  37.77  $38.17  $37.71\n",
       "3     01/16/2014     $37.65   9029284  37.91  $38.10  $37.57\n",
       "4     01/17/2014     $37.45  12937332  37.50  $37.73  $37.34\n",
       "...          ...        ...       ...    ...     ...     ...\n",
       "2490  12/04/2023     $97.60  11477380  98.39  $98.88  $96.77\n",
       "2491  12/05/2023     $95.54  16027350  97.38  $97.48  $94.85\n",
       "2492  12/06/2023     $97.02  12115000  95.95  $97.17  $95.47\n",
       "2493  12/07/2023     $96.44   7858295  97.25  $97.70  $96.27\n",
       "2494  12/08/2023     $96.61   7125234  96.08  $96.86  $95.81\n",
       "\n",
       "[2495 rows x 6 columns]"
      ]
     },
     "execution_count": 5,
     "metadata": {},
     "output_type": "execute_result"
    }
   ],
   "source": [
    "dataset_train"
   ]
  },
  {
   "cell_type": "code",
   "execution_count": 6,
   "id": "60e33689",
   "metadata": {},
   "outputs": [],
   "source": [
    "training_set= dataset_train.iloc[:,3:4].values"
   ]
  },
  {
   "cell_type": "code",
   "execution_count": 7,
   "id": "d54f3531",
   "metadata": {},
   "outputs": [
    {
     "data": {
      "text/plain": [
       "2495"
      ]
     },
     "execution_count": 7,
     "metadata": {},
     "output_type": "execute_result"
    }
   ],
   "source": [
    "len(training_set)"
   ]
  },
  {
   "cell_type": "markdown",
   "id": "aa972700",
   "metadata": {},
   "source": [
    "### Feature scaling"
   ]
  },
  {
   "cell_type": "markdown",
   "id": "73deefd1",
   "metadata": {},
   "source": [
    "Whenever building RNN and especially if theres a sigmoid function as the activation function in the output layer of your RNN, it is recommended to apply 'Normalisation'"
   ]
  },
  {
   "cell_type": "code",
   "execution_count": 8,
   "id": "fc836555",
   "metadata": {},
   "outputs": [],
   "source": [
    "from sklearn.preprocessing import MinMaxScaler\n",
    "sc=MinMaxScaler(feature_range=(0,1))\n",
    "training_set_scaled=sc.fit_transform(training_set)"
   ]
  },
  {
   "cell_type": "code",
   "execution_count": 9,
   "id": "ff33a8aa",
   "metadata": {},
   "outputs": [
    {
     "data": {
      "text/plain": [
       "array([[0.04261613],\n",
       "       [0.03023663],\n",
       "       [0.03253725],\n",
       "       ...,\n",
       "       [0.66991674],\n",
       "       [0.68415863],\n",
       "       [0.67134093]])"
      ]
     },
     "execution_count": 9,
     "metadata": {},
     "output_type": "execute_result"
    }
   ],
   "source": [
    "training_set_scaled"
   ]
  },
  {
   "cell_type": "markdown",
   "id": "f662e2ec",
   "metadata": {},
   "source": [
    "### Creating a data structure with 60 timesteps and 1 output"
   ]
  },
  {
   "cell_type": "raw",
   "id": "b668409d",
   "metadata": {},
   "source": [
    "for each time t, look at 60 stock prices before time t.\n",
    "60(3months) <--came from experimenting\n",
    "predict t+1\n",
    "\n",
    "Later making x_train and y_train as numpy array for our RNN to accept"
   ]
  },
  {
   "cell_type": "code",
   "execution_count": 10,
   "id": "fa77b4b2",
   "metadata": {},
   "outputs": [
    {
     "data": {
      "text/plain": [
       "2495"
      ]
     },
     "execution_count": 10,
     "metadata": {},
     "output_type": "execute_result"
    }
   ],
   "source": [
    "len(training_set_scaled)"
   ]
  },
  {
   "cell_type": "code",
   "execution_count": 11,
   "id": "c3ca9272",
   "metadata": {},
   "outputs": [],
   "source": [
    "X_train=[]\n",
    "y_train=[]\n",
    "for i in range(60,2495):\n",
    "    X_train.append(training_set_scaled[i-60:i,0])\n",
    "    y_train.append(training_set_scaled[i,0])\n",
    "X_train,y_train=np.array(X_train),np.array(y_train)"
   ]
  },
  {
   "cell_type": "markdown",
   "id": "d4e63dda",
   "metadata": {},
   "source": [
    "### Reshaping/adding new dimension to the prev data structure we made"
   ]
  },
  {
   "cell_type": "markdown",
   "id": "2e0f029e",
   "metadata": {},
   "source": [
    "this dimension we are gonna add is exactly the unit i.e. the number of predictors we can use to predict what we want"
   ]
  },
  {
   "cell_type": "code",
   "execution_count": 12,
   "id": "6c2a9ac1",
   "metadata": {},
   "outputs": [
    {
     "data": {
      "text/plain": [
       "(2435, 60)"
      ]
     },
     "execution_count": 12,
     "metadata": {},
     "output_type": "execute_result"
    }
   ],
   "source": [
    "X_train.shape"
   ]
  },
  {
   "cell_type": "code",
   "execution_count": 13,
   "id": "4613f440",
   "metadata": {},
   "outputs": [],
   "source": [
    "X_train=np.reshape(X_train,(X_train.shape[0],X_train.shape[1],1))"
   ]
  },
  {
   "cell_type": "markdown",
   "id": "96328f2c",
   "metadata": {},
   "source": [
    "any time you want to add a new dimension in numpy array, you always need to use the reshape function"
   ]
  },
  {
   "cell_type": "markdown",
   "id": "754f7f0a",
   "metadata": {},
   "source": [
    "## Building the RNN"
   ]
  },
  {
   "cell_type": "markdown",
   "id": "da6b557f",
   "metadata": {},
   "source": [
    "stacked LSTM with some dropout regularization to prevent overfitting"
   ]
  },
  {
   "cell_type": "markdown",
   "id": "eb295ee0",
   "metadata": {},
   "source": [
    "### Importing keras libraries and packages"
   ]
  },
  {
   "cell_type": "code",
   "execution_count": 14,
   "id": "fcdcfb94",
   "metadata": {},
   "outputs": [],
   "source": [
    "from keras.models import Sequential #nn object representing sequence of layers\n",
    "from keras.layers import Dense #to add the output layer\n",
    "from keras.layers import LSTM #adds LSTM layers\n",
    "from keras.layers import Dropout #adds some dropout regularization"
   ]
  },
  {
   "cell_type": "markdown",
   "id": "69ccae3e",
   "metadata": {},
   "source": [
    "### Initializing the RNN"
   ]
  },
  {
   "cell_type": "code",
   "execution_count": 15,
   "id": "a9cd3df9",
   "metadata": {},
   "outputs": [],
   "source": [
    "regressor=Sequential()"
   ]
  },
  {
   "cell_type": "markdown",
   "id": "d14376d8",
   "metadata": {},
   "source": [
    "### Adding the first LSTM layer and some dropout regulations"
   ]
  },
  {
   "cell_type": "markdown",
   "id": "f90bef0e",
   "metadata": {},
   "source": [
    "units=no of neurons in each of the multiple LSTM layer------\n",
    "return_sequences=True cz we gonna add another LSTM layer--------\n",
    "input_shape=> reshape's last two parameters----------\n",
    "dropout 20% means 10 neurons will be dropped"
   ]
  },
  {
   "cell_type": "code",
   "execution_count": 16,
   "id": "582601ea",
   "metadata": {},
   "outputs": [],
   "source": [
    "regressor.add(LSTM(units=60,return_sequences=True,input_shape=(X_train.shape[1],1)))\n",
    "regressor.add(Dropout(0.2))"
   ]
  },
  {
   "cell_type": "markdown",
   "id": "861f35ee",
   "metadata": {},
   "source": [
    "### Other layers"
   ]
  },
  {
   "cell_type": "markdown",
   "id": "bee79139",
   "metadata": {},
   "source": [
    "no neeed of input shape for other layers"
   ]
  },
  {
   "cell_type": "code",
   "execution_count": 17,
   "id": "485eef01",
   "metadata": {},
   "outputs": [],
   "source": [
    "regressor.add(LSTM(units=60,return_sequences=True))\n",
    "regressor.add(Dropout(0.2))"
   ]
  },
  {
   "cell_type": "code",
   "execution_count": 18,
   "id": "5e3a7e71",
   "metadata": {},
   "outputs": [],
   "source": [
    "regressor.add(LSTM(units=60,return_sequences=True))\n",
    "regressor.add(Dropout(0.2))"
   ]
  },
  {
   "cell_type": "code",
   "execution_count": 19,
   "id": "ad783d17",
   "metadata": {},
   "outputs": [],
   "source": [
    "regressor.add(LSTM(units=60,return_sequences=False))#can just remove cz default is false\n",
    "regressor.add(Dropout(0.2))\n",
    "#last layer so no returning sequence"
   ]
  },
  {
   "cell_type": "markdown",
   "id": "b79e6afb",
   "metadata": {},
   "source": [
    "### Adding the output layer"
   ]
  },
  {
   "cell_type": "code",
   "execution_count": 20,
   "id": "bac7bd6c",
   "metadata": {},
   "outputs": [],
   "source": [
    "regressor.add(Dense(units=1))"
   ]
  },
  {
   "cell_type": "markdown",
   "id": "9365679b",
   "metadata": {},
   "source": [
    "### Compiling the RNN (with right optimizer and right loss function) "
   ]
  },
  {
   "cell_type": "code",
   "execution_count": 21,
   "id": "f14da29b",
   "metadata": {},
   "outputs": [],
   "source": [
    "regressor.compile(optimizer='adam',loss='mean_squared_error')\n",
    "#RMSprop is a good option for RNN as optimizer,adam always a safe choice"
   ]
  },
  {
   "cell_type": "markdown",
   "id": "404cbc06",
   "metadata": {},
   "source": [
    "### Fitting the RNN to the training set"
   ]
  },
  {
   "cell_type": "code",
   "execution_count": 22,
   "id": "aafa3e32",
   "metadata": {},
   "outputs": [
    {
     "name": "stdout",
     "output_type": "stream",
     "text": [
      "Epoch 1/100\n",
      "77/77 [==============================] - 26s 140ms/step - loss: 0.0184\n",
      "Epoch 2/100\n",
      "77/77 [==============================] - 11s 140ms/step - loss: 0.0039\n",
      "Epoch 3/100\n",
      "77/77 [==============================] - 11s 137ms/step - loss: 0.0035\n",
      "Epoch 4/100\n",
      "77/77 [==============================] - 11s 143ms/step - loss: 0.0037\n",
      "Epoch 5/100\n",
      "77/77 [==============================] - 11s 143ms/step - loss: 0.0032\n",
      "Epoch 6/100\n",
      "77/77 [==============================] - 12s 150ms/step - loss: 0.0036\n",
      "Epoch 7/100\n",
      "77/77 [==============================] - 12s 154ms/step - loss: 0.0029\n",
      "Epoch 8/100\n",
      "77/77 [==============================] - 12s 155ms/step - loss: 0.0027\n",
      "Epoch 9/100\n",
      "77/77 [==============================] - 11s 145ms/step - loss: 0.0027\n",
      "Epoch 10/100\n",
      "77/77 [==============================] - 11s 141ms/step - loss: 0.0027\n",
      "Epoch 11/100\n",
      "77/77 [==============================] - 12s 156ms/step - loss: 0.0023\n",
      "Epoch 12/100\n",
      "77/77 [==============================] - 12s 154ms/step - loss: 0.0023\n",
      "Epoch 13/100\n",
      "77/77 [==============================] - 13s 174ms/step - loss: 0.0022\n",
      "Epoch 14/100\n",
      "77/77 [==============================] - 12s 159ms/step - loss: 0.0022\n",
      "Epoch 15/100\n",
      "77/77 [==============================] - 11s 144ms/step - loss: 0.0023\n",
      "Epoch 16/100\n",
      "77/77 [==============================] - 12s 161ms/step - loss: 0.0021\n",
      "Epoch 17/100\n",
      "77/77 [==============================] - 12s 155ms/step - loss: 0.0026\n",
      "Epoch 18/100\n",
      "77/77 [==============================] - 12s 152ms/step - loss: 0.0019\n",
      "Epoch 19/100\n",
      "77/77 [==============================] - 11s 146ms/step - loss: 0.0019\n",
      "Epoch 20/100\n",
      "77/77 [==============================] - 11s 143ms/step - loss: 0.0020\n",
      "Epoch 21/100\n",
      "77/77 [==============================] - 12s 150ms/step - loss: 0.0017\n",
      "Epoch 22/100\n",
      "77/77 [==============================] - 12s 154ms/step - loss: 0.0017\n",
      "Epoch 23/100\n",
      "77/77 [==============================] - 12s 157ms/step - loss: 0.0016\n",
      "Epoch 24/100\n",
      "77/77 [==============================] - 11s 146ms/step - loss: 0.0015\n",
      "Epoch 25/100\n",
      "77/77 [==============================] - 11s 143ms/step - loss: 0.0016\n",
      "Epoch 26/100\n",
      "77/77 [==============================] - 11s 149ms/step - loss: 0.0017\n",
      "Epoch 27/100\n",
      "77/77 [==============================] - 12s 154ms/step - loss: 0.0017\n",
      "Epoch 28/100\n",
      "77/77 [==============================] - 12s 150ms/step - loss: 0.0014\n",
      "Epoch 29/100\n",
      "77/77 [==============================] - 11s 148ms/step - loss: 0.0016\n",
      "Epoch 30/100\n",
      "77/77 [==============================] - 11s 145ms/step - loss: 0.0014\n",
      "Epoch 31/100\n",
      "77/77 [==============================] - 11s 148ms/step - loss: 0.0015\n",
      "Epoch 32/100\n",
      "77/77 [==============================] - 12s 151ms/step - loss: 0.0015\n",
      "Epoch 33/100\n",
      "77/77 [==============================] - 12s 154ms/step - loss: 0.0013\n",
      "Epoch 34/100\n",
      "77/77 [==============================] - 12s 153ms/step - loss: 0.0014\n",
      "Epoch 35/100\n",
      "77/77 [==============================] - 11s 144ms/step - loss: 0.0014\n",
      "Epoch 36/100\n",
      "77/77 [==============================] - 11s 144ms/step - loss: 0.0013\n",
      "Epoch 37/100\n",
      "77/77 [==============================] - 12s 156ms/step - loss: 0.0013\n",
      "Epoch 38/100\n",
      "77/77 [==============================] - 12s 152ms/step - loss: 0.0013\n",
      "Epoch 39/100\n",
      "77/77 [==============================] - 11s 149ms/step - loss: 0.0014\n",
      "Epoch 40/100\n",
      "77/77 [==============================] - 11s 145ms/step - loss: 0.0013\n",
      "Epoch 41/100\n",
      "77/77 [==============================] - 11s 144ms/step - loss: 0.0012\n",
      "Epoch 42/100\n",
      "77/77 [==============================] - 12s 150ms/step - loss: 0.0013\n",
      "Epoch 43/100\n",
      "77/77 [==============================] - 12s 151ms/step - loss: 0.0013\n",
      "Epoch 44/100\n",
      "77/77 [==============================] - 12s 157ms/step - loss: 0.0013\n",
      "Epoch 45/100\n",
      "77/77 [==============================] - 11s 145ms/step - loss: 0.0011\n",
      "Epoch 46/100\n",
      "77/77 [==============================] - 11s 142ms/step - loss: 0.0011\n",
      "Epoch 47/100\n",
      "77/77 [==============================] - 11s 149ms/step - loss: 0.0011\n",
      "Epoch 48/100\n",
      "77/77 [==============================] - 13s 170ms/step - loss: 0.0011\n",
      "Epoch 49/100\n",
      "77/77 [==============================] - 12s 155ms/step - loss: 0.0010\n",
      "Epoch 50/100\n",
      "77/77 [==============================] - 12s 154ms/step - loss: 0.0013\n",
      "Epoch 51/100\n",
      "77/77 [==============================] - 11s 145ms/step - loss: 9.9585e-04\n",
      "Epoch 52/100\n",
      "77/77 [==============================] - 13s 172ms/step - loss: 9.7751e-04\n",
      "Epoch 53/100\n",
      "77/77 [==============================] - 15s 196ms/step - loss: 9.7944e-04\n",
      "Epoch 54/100\n",
      "77/77 [==============================] - 12s 162ms/step - loss: 9.5470e-04\n",
      "Epoch 55/100\n",
      "77/77 [==============================] - 12s 151ms/step - loss: 9.6377e-04\n",
      "Epoch 56/100\n",
      "77/77 [==============================] - 12s 152ms/step - loss: 9.1637e-04\n",
      "Epoch 57/100\n",
      "77/77 [==============================] - 12s 156ms/step - loss: 9.2854e-04\n",
      "Epoch 58/100\n",
      "77/77 [==============================] - 12s 155ms/step - loss: 8.8344e-04\n",
      "Epoch 59/100\n",
      "77/77 [==============================] - 11s 146ms/step - loss: 0.0010\n",
      "Epoch 60/100\n",
      "77/77 [==============================] - 11s 141ms/step - loss: 9.7736e-04\n",
      "Epoch 61/100\n",
      "77/77 [==============================] - 11s 142ms/step - loss: 0.0011\n",
      "Epoch 62/100\n",
      "77/77 [==============================] - 13s 166ms/step - loss: 9.8632e-04\n",
      "Epoch 63/100\n",
      "77/77 [==============================] - 13s 169ms/step - loss: 9.5054e-04\n",
      "Epoch 64/100\n",
      "77/77 [==============================] - 13s 162ms/step - loss: 8.7764e-04\n",
      "Epoch 65/100\n",
      "77/77 [==============================] - 12s 150ms/step - loss: 9.1890e-04\n",
      "Epoch 66/100\n",
      "77/77 [==============================] - 11s 146ms/step - loss: 8.9632e-04\n",
      "Epoch 67/100\n",
      "77/77 [==============================] - 12s 153ms/step - loss: 8.6176e-04\n",
      "Epoch 68/100\n",
      "77/77 [==============================] - 12s 155ms/step - loss: 8.9103e-04\n",
      "Epoch 69/100\n",
      "77/77 [==============================] - 12s 154ms/step - loss: 9.3706e-04\n",
      "Epoch 70/100\n",
      "77/77 [==============================] - 11s 144ms/step - loss: 9.9530e-04\n",
      "Epoch 71/100\n",
      "77/77 [==============================] - 11s 143ms/step - loss: 9.6486e-04\n",
      "Epoch 72/100\n",
      "77/77 [==============================] - 12s 154ms/step - loss: 8.6769e-04\n",
      "Epoch 73/100\n",
      "77/77 [==============================] - 12s 153ms/step - loss: 8.7284e-04\n",
      "Epoch 74/100\n",
      "77/77 [==============================] - 12s 154ms/step - loss: 8.3045e-04\n",
      "Epoch 75/100\n",
      "77/77 [==============================] - 12s 150ms/step - loss: 8.5841e-04\n",
      "Epoch 76/100\n",
      "77/77 [==============================] - 11s 146ms/step - loss: 8.8718e-04\n",
      "Epoch 77/100\n",
      "77/77 [==============================] - 11s 149ms/step - loss: 8.0141e-04\n",
      "Epoch 78/100\n",
      "77/77 [==============================] - 12s 154ms/step - loss: 8.5784e-04\n",
      "Epoch 79/100\n",
      "77/77 [==============================] - 12s 156ms/step - loss: 8.8477e-04\n",
      "Epoch 80/100\n",
      "77/77 [==============================] - 12s 150ms/step - loss: 7.4279e-04\n",
      "Epoch 81/100\n",
      "77/77 [==============================] - 11s 143ms/step - loss: 7.9951e-04\n",
      "Epoch 82/100\n",
      "77/77 [==============================] - 11s 149ms/step - loss: 8.1848e-04\n",
      "Epoch 83/100\n",
      "77/77 [==============================] - 12s 157ms/step - loss: 8.3741e-04\n",
      "Epoch 84/100\n",
      "77/77 [==============================] - 12s 155ms/step - loss: 9.3824e-04\n",
      "Epoch 85/100\n",
      "77/77 [==============================] - 12s 154ms/step - loss: 7.5986e-04\n",
      "Epoch 86/100\n",
      "77/77 [==============================] - 11s 146ms/step - loss: 8.3380e-04\n",
      "Epoch 87/100\n",
      "77/77 [==============================] - 12s 155ms/step - loss: 7.7587e-04\n",
      "Epoch 88/100\n",
      "77/77 [==============================] - 12s 153ms/step - loss: 7.6277e-04\n",
      "Epoch 89/100\n",
      "77/77 [==============================] - 12s 155ms/step - loss: 8.2127e-04\n",
      "Epoch 90/100\n",
      "77/77 [==============================] - 12s 157ms/step - loss: 7.6702e-04\n",
      "Epoch 91/100\n",
      "77/77 [==============================] - 13s 166ms/step - loss: 8.3060e-04\n",
      "Epoch 92/100\n",
      "77/77 [==============================] - 12s 150ms/step - loss: 8.5835e-04\n",
      "Epoch 93/100\n",
      "77/77 [==============================] - 12s 154ms/step - loss: 7.8139e-04\n",
      "Epoch 94/100\n",
      "77/77 [==============================] - 12s 155ms/step - loss: 8.2871e-04\n",
      "Epoch 95/100\n",
      "77/77 [==============================] - 12s 154ms/step - loss: 8.2401e-04\n",
      "Epoch 96/100\n"
     ]
    },
    {
     "name": "stdout",
     "output_type": "stream",
     "text": [
      "77/77 [==============================] - 11s 144ms/step - loss: 8.1643e-04\n",
      "Epoch 97/100\n",
      "77/77 [==============================] - 11s 145ms/step - loss: 7.6173e-04\n",
      "Epoch 98/100\n",
      "77/77 [==============================] - 12s 154ms/step - loss: 7.2484e-04\n",
      "Epoch 99/100\n",
      "77/77 [==============================] - 12s 151ms/step - loss: 7.6539e-04\n",
      "Epoch 100/100\n",
      "77/77 [==============================] - 11s 148ms/step - loss: 7.7111e-04\n"
     ]
    },
    {
     "data": {
      "text/plain": [
       "<keras.src.callbacks.History at 0x1787f502a40>"
      ]
     },
     "execution_count": 22,
     "metadata": {},
     "output_type": "execute_result"
    }
   ],
   "source": [
    "regressor.fit(X_train,y_train,epochs=100,batch_size=32)"
   ]
  },
  {
   "cell_type": "markdown",
   "id": "b9cbe972",
   "metadata": {},
   "source": [
    "## Making the predictions and visualizing the results"
   ]
  },
  {
   "cell_type": "markdown",
   "id": "a3090c9f",
   "metadata": {},
   "source": [
    "### get the real Starbucks stock price "
   ]
  },
  {
   "cell_type": "code",
   "execution_count": 23,
   "id": "8d151608",
   "metadata": {},
   "outputs": [
    {
     "data": {
      "text/html": [
       "<div>\n",
       "<style scoped>\n",
       "    .dataframe tbody tr th:only-of-type {\n",
       "        vertical-align: middle;\n",
       "    }\n",
       "\n",
       "    .dataframe tbody tr th {\n",
       "        vertical-align: top;\n",
       "    }\n",
       "\n",
       "    .dataframe thead th {\n",
       "        text-align: right;\n",
       "    }\n",
       "</style>\n",
       "<table border=\"1\" class=\"dataframe\">\n",
       "  <thead>\n",
       "    <tr style=\"text-align: right;\">\n",
       "      <th></th>\n",
       "      <th>Date</th>\n",
       "      <th>Close/Last</th>\n",
       "      <th>Volume</th>\n",
       "      <th>Open</th>\n",
       "      <th>High</th>\n",
       "      <th>Low</th>\n",
       "    </tr>\n",
       "  </thead>\n",
       "  <tbody>\n",
       "    <tr>\n",
       "      <th>0</th>\n",
       "      <td>12/11/2023</td>\n",
       "      <td>$98.12</td>\n",
       "      <td>7639105</td>\n",
       "      <td>$97.22</td>\n",
       "      <td>$99.01</td>\n",
       "      <td>$97.22</td>\n",
       "    </tr>\n",
       "    <tr>\n",
       "      <th>1</th>\n",
       "      <td>12/12/2023</td>\n",
       "      <td>$98.15</td>\n",
       "      <td>6313820</td>\n",
       "      <td>$98.44</td>\n",
       "      <td>$98.60</td>\n",
       "      <td>$97.43</td>\n",
       "    </tr>\n",
       "    <tr>\n",
       "      <th>2</th>\n",
       "      <td>12/13/2023</td>\n",
       "      <td>$98.11</td>\n",
       "      <td>7741909</td>\n",
       "      <td>$98.50</td>\n",
       "      <td>$98.64</td>\n",
       "      <td>$96.82</td>\n",
       "    </tr>\n",
       "    <tr>\n",
       "      <th>3</th>\n",
       "      <td>12/14/2023</td>\n",
       "      <td>$97.84</td>\n",
       "      <td>9764843</td>\n",
       "      <td>$98.72</td>\n",
       "      <td>$98.79</td>\n",
       "      <td>$97.15</td>\n",
       "    </tr>\n",
       "    <tr>\n",
       "      <th>4</th>\n",
       "      <td>12/15/2023</td>\n",
       "      <td>$96.75</td>\n",
       "      <td>12466040</td>\n",
       "      <td>$97.84</td>\n",
       "      <td>$98.24</td>\n",
       "      <td>$96.56</td>\n",
       "    </tr>\n",
       "    <tr>\n",
       "      <th>5</th>\n",
       "      <td>12/18/2023</td>\n",
       "      <td>$96.56</td>\n",
       "      <td>6146426</td>\n",
       "      <td>$97.24</td>\n",
       "      <td>$97.32</td>\n",
       "      <td>$95.92</td>\n",
       "    </tr>\n",
       "    <tr>\n",
       "      <th>6</th>\n",
       "      <td>12/19/2023</td>\n",
       "      <td>$97.72</td>\n",
       "      <td>5992883</td>\n",
       "      <td>$96.94</td>\n",
       "      <td>$98.05</td>\n",
       "      <td>$96.94</td>\n",
       "    </tr>\n",
       "    <tr>\n",
       "      <th>7</th>\n",
       "      <td>12/20/2023</td>\n",
       "      <td>$94.71</td>\n",
       "      <td>10057370</td>\n",
       "      <td>$96.36</td>\n",
       "      <td>$96.88</td>\n",
       "      <td>$94.65</td>\n",
       "    </tr>\n",
       "    <tr>\n",
       "      <th>8</th>\n",
       "      <td>12/21/2023</td>\n",
       "      <td>$95.33</td>\n",
       "      <td>7097160</td>\n",
       "      <td>$95.08</td>\n",
       "      <td>$95.44</td>\n",
       "      <td>$94.47</td>\n",
       "    </tr>\n",
       "    <tr>\n",
       "      <th>9</th>\n",
       "      <td>12/22/2023</td>\n",
       "      <td>$95.28</td>\n",
       "      <td>6361013</td>\n",
       "      <td>$94.89</td>\n",
       "      <td>$95.83</td>\n",
       "      <td>$94.34</td>\n",
       "    </tr>\n",
       "    <tr>\n",
       "      <th>10</th>\n",
       "      <td>12/26/2023</td>\n",
       "      <td>$95.67</td>\n",
       "      <td>3709492</td>\n",
       "      <td>$95.34</td>\n",
       "      <td>$95.69</td>\n",
       "      <td>$94.96</td>\n",
       "    </tr>\n",
       "    <tr>\n",
       "      <th>11</th>\n",
       "      <td>12/27/2023</td>\n",
       "      <td>$95.29</td>\n",
       "      <td>4959279</td>\n",
       "      <td>$95.69</td>\n",
       "      <td>$95.78</td>\n",
       "      <td>$94.79</td>\n",
       "    </tr>\n",
       "    <tr>\n",
       "      <th>12</th>\n",
       "      <td>12/28/2023</td>\n",
       "      <td>$95.93</td>\n",
       "      <td>4518319</td>\n",
       "      <td>$95.50</td>\n",
       "      <td>$95.97</td>\n",
       "      <td>$95.11</td>\n",
       "    </tr>\n",
       "    <tr>\n",
       "      <th>13</th>\n",
       "      <td>12/29/2023</td>\n",
       "      <td>$96.01</td>\n",
       "      <td>6135654</td>\n",
       "      <td>$95.88</td>\n",
       "      <td>$96.35</td>\n",
       "      <td>$95.35</td>\n",
       "    </tr>\n",
       "    <tr>\n",
       "      <th>14</th>\n",
       "      <td>01/02/2024</td>\n",
       "      <td>$93.67</td>\n",
       "      <td>8859654</td>\n",
       "      <td>$95.45</td>\n",
       "      <td>$95.95</td>\n",
       "      <td>$93.62</td>\n",
       "    </tr>\n",
       "    <tr>\n",
       "      <th>15</th>\n",
       "      <td>01/03/2024</td>\n",
       "      <td>$93.23</td>\n",
       "      <td>7161677</td>\n",
       "      <td>$93.96</td>\n",
       "      <td>$94.24</td>\n",
       "      <td>$93.06</td>\n",
       "    </tr>\n",
       "    <tr>\n",
       "      <th>16</th>\n",
       "      <td>01/04/2024</td>\n",
       "      <td>$93.55</td>\n",
       "      <td>7118640</td>\n",
       "      <td>$93.10</td>\n",
       "      <td>$94.58</td>\n",
       "      <td>$93.00</td>\n",
       "    </tr>\n",
       "    <tr>\n",
       "      <th>17</th>\n",
       "      <td>01/05/2024</td>\n",
       "      <td>$92.99</td>\n",
       "      <td>7191023</td>\n",
       "      <td>$93.33</td>\n",
       "      <td>$93.58</td>\n",
       "      <td>$92.48</td>\n",
       "    </tr>\n",
       "    <tr>\n",
       "      <th>18</th>\n",
       "      <td>01/08/2024</td>\n",
       "      <td>$94.19</td>\n",
       "      <td>7536873</td>\n",
       "      <td>$93.02</td>\n",
       "      <td>$94.57</td>\n",
       "      <td>$92.95</td>\n",
       "    </tr>\n",
       "    <tr>\n",
       "      <th>19</th>\n",
       "      <td>01/09/2024</td>\n",
       "      <td>$93.09</td>\n",
       "      <td>6348458</td>\n",
       "      <td>$93.61</td>\n",
       "      <td>$93.73</td>\n",
       "      <td>$92.86</td>\n",
       "    </tr>\n",
       "    <tr>\n",
       "      <th>20</th>\n",
       "      <td>01/10/2024</td>\n",
       "      <td>$93.50</td>\n",
       "      <td>5847748</td>\n",
       "      <td>$93.01</td>\n",
       "      <td>$93.69</td>\n",
       "      <td>$92.88</td>\n",
       "    </tr>\n",
       "    <tr>\n",
       "      <th>21</th>\n",
       "      <td>01/11/2024</td>\n",
       "      <td>$92.94</td>\n",
       "      <td>6483610</td>\n",
       "      <td>$93.33</td>\n",
       "      <td>$93.64</td>\n",
       "      <td>$91.90</td>\n",
       "    </tr>\n",
       "  </tbody>\n",
       "</table>\n",
       "</div>"
      ],
      "text/plain": [
       "          Date Close/Last    Volume    Open    High     Low\n",
       "0   12/11/2023     $98.12   7639105  $97.22  $99.01  $97.22\n",
       "1   12/12/2023     $98.15   6313820  $98.44  $98.60  $97.43\n",
       "2   12/13/2023     $98.11   7741909  $98.50  $98.64  $96.82\n",
       "3   12/14/2023     $97.84   9764843  $98.72  $98.79  $97.15\n",
       "4   12/15/2023     $96.75  12466040  $97.84  $98.24  $96.56\n",
       "5   12/18/2023     $96.56   6146426  $97.24  $97.32  $95.92\n",
       "6   12/19/2023     $97.72   5992883  $96.94  $98.05  $96.94\n",
       "7   12/20/2023     $94.71  10057370  $96.36  $96.88  $94.65\n",
       "8   12/21/2023     $95.33   7097160  $95.08  $95.44  $94.47\n",
       "9   12/22/2023     $95.28   6361013  $94.89  $95.83  $94.34\n",
       "10  12/26/2023     $95.67   3709492  $95.34  $95.69  $94.96\n",
       "11  12/27/2023     $95.29   4959279  $95.69  $95.78  $94.79\n",
       "12  12/28/2023     $95.93   4518319  $95.50  $95.97  $95.11\n",
       "13  12/29/2023     $96.01   6135654  $95.88  $96.35  $95.35\n",
       "14  01/02/2024     $93.67   8859654  $95.45  $95.95  $93.62\n",
       "15  01/03/2024     $93.23   7161677  $93.96  $94.24  $93.06\n",
       "16  01/04/2024     $93.55   7118640  $93.10  $94.58  $93.00\n",
       "17  01/05/2024     $92.99   7191023  $93.33  $93.58  $92.48\n",
       "18  01/08/2024     $94.19   7536873  $93.02  $94.57  $92.95\n",
       "19  01/09/2024     $93.09   6348458  $93.61  $93.73  $92.86\n",
       "20  01/10/2024     $93.50   5847748  $93.01  $93.69  $92.88\n",
       "21  01/11/2024     $92.94   6483610  $93.33  $93.64  $91.90"
      ]
     },
     "execution_count": 23,
     "metadata": {},
     "output_type": "execute_result"
    }
   ],
   "source": [
    "dataset_test = pd.read_csv('Starbucks_Stock_Price_Test.csv')\n",
    "dataset_test"
   ]
  },
  {
   "cell_type": "code",
   "execution_count": 24,
   "id": "ced67430",
   "metadata": {},
   "outputs": [],
   "source": [
    "dataset_test['Open'] = dataset_test['Open'].apply(lambda x: float(x.replace('$', '')))"
   ]
  },
  {
   "cell_type": "code",
   "execution_count": 25,
   "id": "91ba7db6",
   "metadata": {},
   "outputs": [],
   "source": [
    "real_stock_price= dataset_test.iloc[:,3:4].values"
   ]
  },
  {
   "cell_type": "markdown",
   "id": "16520526",
   "metadata": {},
   "source": [
    "### getting the predicted Starbucks stock price "
   ]
  },
  {
   "cell_type": "code",
   "execution_count": 26,
   "id": "26784d31",
   "metadata": {},
   "outputs": [
    {
     "name": "stdout",
     "output_type": "stream",
     "text": [
      "1/1 [==============================] - 4s 4s/step\n"
     ]
    }
   ],
   "source": [
    "dataset_total=pd.concat((dataset_train['Open'],dataset_test['Open']),axis=0)\n",
    "inputs=dataset_total[len(dataset_total)-len(dataset_test)-60:].values\n",
    "inputs=inputs.reshape(-1,1)\n",
    "inputs=sc.transform(inputs)\n",
    "X_test=[]\n",
    "for i in range(60,80):\n",
    "    X_test.append(inputs[i-60:i,0])\n",
    "X_test=np.array(X_test)\n",
    "X_test=np.reshape(X_test,(X_test.shape[0],X_test.shape[1],1))\n",
    "predicted_stock_price=regressor.predict(X_test)\n",
    "predicted_stock_price=sc.inverse_transform(predicted_stock_price)"
   ]
  },
  {
   "cell_type": "markdown",
   "id": "4d98584d",
   "metadata": {},
   "source": [
    "### Visualising the results"
   ]
  },
  {
   "cell_type": "code",
   "execution_count": 27,
   "id": "01278641",
   "metadata": {},
   "outputs": [
    {
     "data": {
      "text/plain": [
       "<matplotlib.legend.Legend at 0x1780ab45d80>"
      ]
     },
     "execution_count": 27,
     "metadata": {},
     "output_type": "execute_result"
    },
    {
     "data": {
      "image/png": "[encoded data removed]",
      "text/plain": [
       "<Figure size 640x480 with 1 Axes>"
      ]
     },
     "metadata": {},
     "output_type": "display_data"
    }
   ],
   "source": [
    "plt.plot(real_stock_price,color='red',label='Real Starbucks Stock Price')\n",
    "plt.plot(predicted_stock_price,color='green',label='Predicted Starbucks Stock Price')\n",
    "plt.title(\"Starbucks Stock Price Prediction\")\n",
    "plt.xlabel(\"Time\")\n",
    "plt.ylabel(\"Starbucks stock price\")\n",
    "plt.legend()"
   ]
  }
 ],
 "metadata": {
  "kernelspec": {
   "display_name": "Python 3 (ipykernel)",
   "language": "python",
   "name": "python3"
  },
  "language_info": {
   "codemirror_mode": {
    "name": "ipython",
    "version": 3
   },
   "file_extension": ".py",
   "mimetype": "text/x-python",
   "name": "python",
   "nbconvert_exporter": "python",
   "pygments_lexer": "ipython3",
   "version": "3.10.9"
  }
 },
 "nbformat": 4,
 "nbformat_minor": 5
}
